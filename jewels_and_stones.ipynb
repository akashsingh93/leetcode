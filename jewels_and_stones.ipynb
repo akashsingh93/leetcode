{
 "cells": [
  {
   "cell_type": "markdown",
   "metadata": {},
   "source": [
    "## Jewels and Stones"
   ]
  },
  {
   "cell_type": "markdown",
   "metadata": {},
   "source": [
    "You're given strings J representing the types of stones that are jewels, and S representing the stones you have.  Each character in S is a type of stone you have.  You want to know how many of the stones you have are also jewels.\n",
    "\n",
    "The letters in J are guaranteed distinct, and all characters in J and S are letters. Letters are case sensitive, so \"a\" is considered a different type of stone from \"A\".\n",
    "\n",
    "Example 1:\n",
    "\n",
    "Input: J = \"aA\", S = \"aAAbbbb\"\n",
    "Output: 3\n",
    "Example 2:\n",
    "\n",
    "Input: J = \"z\", S = \"ZZ\"\n",
    "Output: 0\n",
    "Note:\n",
    "\n",
    "S and J will consist of letters and have length at most 50.\n",
    "The characters in J are distinct."
   ]
  },
  {
   "cell_type": "code",
   "execution_count": 6,
   "metadata": {},
   "outputs": [],
   "source": [
    "class Solution:\n",
    "    def numJewelsInStones(self, J: str, S: str) -> int:\n",
    "        # since d is unique here\n",
    "        jwl_dict = dict.fromkeys([x for x in J],0)\n",
    "        count = 0\n",
    "        for stone in S:\n",
    "            try:\n",
    "                if jwl_dict[stone]==0:\n",
    "                    count+=1\n",
    "            except KeyError as e:\n",
    "                pass\n",
    "        return count"
   ]
  },
  {
   "cell_type": "markdown",
   "metadata": {},
   "source": [
    "Explaination: \n",
    "Created an hashmap or dictionary with value zero so that my runtime should be O(n) instead of O(n**2)"
   ]
  },
  {
   "cell_type": "markdown",
   "metadata": {},
   "source": [
    "Submission Detail:\n",
    "* 254 / 254 test cases passed.\n",
    "* Status: Accepted\n",
    "* Runtime: 28 ms\n",
    "* Memory Usage: 14 MB\n",
    "* Submitted: 3 minutes ago\n",
    "\n",
    "* This algorithms beats 78.20% of python3 submission."
   ]
  }
 ],
 "metadata": {
  "kernelspec": {
   "display_name": "Python 3",
   "language": "python",
   "name": "python3"
  },
  "language_info": {
   "codemirror_mode": {
    "name": "ipython",
    "version": 3
   },
   "file_extension": ".py",
   "mimetype": "text/x-python",
   "name": "python",
   "nbconvert_exporter": "python",
   "pygments_lexer": "ipython3",
   "version": "3.7.3"
  }
 },
 "nbformat": 4,
 "nbformat_minor": 2
}
