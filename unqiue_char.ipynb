{
 "cells": [
  {
   "cell_type": "markdown",
   "metadata": {},
   "source": [
    "### First Unique Character in a String"
   ]
  },
  {
   "cell_type": "markdown",
   "metadata": {},
   "source": [
    "Given a string, find the first non-repeating character in it and return it's index. If it doesn't exist, return -1.\n",
    "\n",
    "Examples:\n",
    "\n",
    "s = \"leetcode\"\n",
    "return 0.\n",
    "\n",
    "s = \"loveleetcode\",\n",
    "return 2.\n",
    "Note: You may assume the string contain only lowercase letters."
   ]
  },
  {
   "cell_type": "code",
   "execution_count": 3,
   "metadata": {},
   "outputs": [],
   "source": [
    "class Solution:\n",
    "    def firstUniqChar(self, s: str) -> int:\n",
    "        # for empty string\n",
    "        if len(s)>0:\n",
    "            d = dict.fromkeys(list(set(s)),0) # intitliase the dict with key as\n",
    "            print(\"dict is: \",d)\n",
    "            # create a count of all the chars\n",
    "            for char in s:\n",
    "                d[char] +=1\n",
    "            print(\"After iteration: \",d)  \n",
    "            \n",
    "            # now iterate thorugh string and return if count == 1 for first string\n",
    "            \n",
    "            for ind,char in enumerate(s):\n",
    "                if d[char]==1:\n",
    "                    return ind\n",
    "                elif ind==len(s)-1:\n",
    "                    return -1                \n",
    "        else:\n",
    "            return -1"
   ]
  },
  {
   "cell_type": "markdown",
   "metadata": {},
   "source": [
    "* Submission Detail\n",
    "* 104 / 104 test cases passed.\n",
    "* Status: Accepted\n",
    "* Runtime: 152 ms\n",
    "* Memory Usage: 14.1 MB\n",
    "* Submitted: 0 minutes ago\n",
    "* This Algorithm beats 31.49% of pythonic solutions."
   ]
  },
  {
   "cell_type": "markdown",
   "metadata": {},
   "source": [
    "I checked out the leetcode solution and turns out this is the same way they have explained it in the video and below is the leetcode solution to this. Basically Idea is same, Instead of doing manually they have used counter object from collections. If you can suggest a better feel free to send a comit request or drop a mail to : kr4.akash@gmail.com"
   ]
  },
  {
   "cell_type": "code",
   "execution_count": 2,
   "metadata": {},
   "outputs": [],
   "source": [
    "class Solution:\n",
    "    def firstUniqChar(self, s: str) -> int:\n",
    "        \"\"\"\n",
    "        :type s: str\n",
    "        :rtype: int\n",
    "        \"\"\"\n",
    "        # build hash map : character and how often it appears\n",
    "        count = collections.Counter(s)\n",
    "        \n",
    "        # find the index\n",
    "        for idx, ch in enumerate(s):\n",
    "            if count[ch] == 1:\n",
    "                return idx     \n",
    "        return -1"
   ]
  }
 ],
 "metadata": {
  "kernelspec": {
   "display_name": "Python 3",
   "language": "python",
   "name": "python3"
  },
  "language_info": {
   "codemirror_mode": {
    "name": "ipython",
    "version": 3
   },
   "file_extension": ".py",
   "mimetype": "text/x-python",
   "name": "python",
   "nbconvert_exporter": "python",
   "pygments_lexer": "ipython3",
   "version": "3.7.3"
  }
 },
 "nbformat": 4,
 "nbformat_minor": 2
}
