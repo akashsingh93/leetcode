{
 "cells": [
  {
   "cell_type": "markdown",
   "metadata": {},
   "source": [
    "###  Number Complement\n"
   ]
  },
  {
   "cell_type": "markdown",
   "metadata": {},
   "source": [
    "Given a positive integer num, output its complement number. The complement strategy is to flip the bits of its binary representation.\n",
    "\n",
    " \n",
    "\n",
    "Example 1:\n",
    "\n",
    "Input: num = 5\n",
    "Output: 2\n",
    "Explanation: The binary representation of 5 is 101 (no leading zero bits), and its complement is 010. So you need to output 2.\n",
    "Example 2:\n",
    "\n",
    "Input: num = 1\n",
    "Output: 0\n",
    "Explanation: The binary representation of 1 is 1 (no leading zero bits), and its complement is 0. So you need to output 0.\n",
    " \n",
    "\n",
    "Constraints:\n",
    "\n",
    "The given integer num is guaranteed to fit within the range of a 32-bit signed integer.\n",
    "num >= 1\n",
    "You could assume no leading zero bit in the integer’s binary representation.\n",
    "This question is the same as 1009: https://leetcode.com/problems/complement-of-base-10-integer/"
   ]
  },
  {
   "cell_type": "code",
   "execution_count": 32,
   "metadata": {},
   "outputs": [],
   "source": [
    "class Solution:\n",
    "    # converting to binary from decimal\n",
    "    def convert2bin(self,num,rem_ls=[]):\n",
    "        # base case\n",
    "        if num ==1:\n",
    "            #print(\"num==1\")\n",
    "            rem_ls.append(1)\n",
    "            return rem_ls\n",
    "        elif num ==2:\n",
    "            #print(\"num==2\")\n",
    "            rem_ls.append(0)\n",
    "            rem_ls.append(1)\n",
    "            return rem_ls\n",
    "        else:\n",
    "            rem_ls.append(num%2)\n",
    "            #print(\"rem list: \",rem_ls)\n",
    "            return self.convert2bin(int(num/2),rem_ls)\n",
    "        \n",
    "    def findComplement(self, num: int) -> int:\n",
    "        bin_no = self.convert2bin(num,[])\n",
    "        # complement of number\n",
    "        print(\"bin: \",bin_no)\n",
    "        comp = list(map(lambda x: 0 if x==1 else 1,bin_no))\n",
    "        sum=0\n",
    "        # changing it to decimal number\n",
    "        for ind,val in enumerate(comp):\n",
    "            sum += val*(2**ind)\n",
    "        return sum\n",
    "        \n",
    "    \n",
    "    \n",
    "                \n",
    "            "
   ]
  },
  {
   "cell_type": "code",
   "execution_count": 33,
   "metadata": {},
   "outputs": [
    {
     "name": "stdout",
     "output_type": "stream",
     "text": [
      "bin:  [1, 0, 1]\n",
      "2\n"
     ]
    }
   ],
   "source": [
    "s = Solution()\n",
    "print(s.findComplement(5))"
   ]
  },
  {
   "cell_type": "markdown",
   "metadata": {},
   "source": [
    "* Submission Detail\n",
    "* 149 / 149 test cases passed.\n",
    "* Status: Accepted\n",
    "* Runtime: 28 ms\n",
    "* Memory Usage: 14 MB\n",
    "* Submitted: 0 minutes ago\n",
    "* This Algorithm beats 69.59% of pythonic submission"
   ]
  }
 ],
 "metadata": {
  "kernelspec": {
   "display_name": "Python 3",
   "language": "python",
   "name": "python3"
  },
  "language_info": {
   "codemirror_mode": {
    "name": "ipython",
    "version": 3
   },
   "file_extension": ".py",
   "mimetype": "text/x-python",
   "name": "python",
   "nbconvert_exporter": "python",
   "pygments_lexer": "ipython3",
   "version": "3.7.3"
  }
 },
 "nbformat": 4,
 "nbformat_minor": 2
}
